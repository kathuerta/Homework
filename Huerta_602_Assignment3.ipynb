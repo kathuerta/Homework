{
 "cells": [
  {
   "cell_type": "code",
   "execution_count": 1,
   "metadata": {},
   "outputs": [
    {
     "name": "stdout",
     "output_type": "stream",
     "text": [
      "    RID          age  income student credit_rating Class: buys_computer\n",
      "0     1        youth    high      no          fair                   no\n",
      "1     2        youth    high      no     excellent                   no\n",
      "2     3  middle_aged    high      no          fair                  yes\n",
      "3     4       senior  medium      no          fair                  yes\n",
      "4     5       senior     low     yes          fair                  yes\n",
      "5     6       senior     low     yes     excellent                   no\n",
      "6     7  middle_aged     low     yes     excellent                  yes\n",
      "7     8        youth  medium      no          fair                   no\n",
      "8     9        youth     low     yes          fair                  yes\n",
      "9    10       senior  medium     yes          fair                  yes\n",
      "10   11        youth  medium     yes     excellent                  yes\n",
      "11   12  middle_aged  medium      no     excellent                  yes\n",
      "12   13  middle_aged    high     yes          fair                  yes\n",
      "13   14       senior  medium      no     excellent                   no\n"
     ]
    }
   ],
   "source": [
    "# Dataset\n",
    "import pandas as pd\n",
    "import numpy as np\n",
    "D = pd.read_csv('C:/Users/kathu/Desktop/datasets/assignment3.csv')\n",
    "print(D)"
   ]
  },
  {
   "cell_type": "code",
   "execution_count": 2,
   "metadata": {},
   "outputs": [
    {
     "name": "stdout",
     "output_type": "stream",
     "text": [
      "[['youth' 'high' 'no' 'fair']\n",
      " ['youth' 'high' 'no' 'excellent']\n",
      " ['middle_aged' 'high' 'no' 'fair']\n",
      " ['senior' 'medium' 'no' 'fair']\n",
      " ['senior' 'low' 'yes' 'fair']\n",
      " ['senior' 'low' 'yes' 'excellent']\n",
      " ['middle_aged' 'low' 'yes' 'excellent']\n",
      " ['youth' 'medium' 'no' 'fair']\n",
      " ['youth' 'low' 'yes' 'fair']\n",
      " ['senior' 'medium' 'yes' 'fair']\n",
      " ['youth' 'medium' 'yes' 'excellent']\n",
      " ['middle_aged' 'medium' 'no' 'excellent']\n",
      " ['middle_aged' 'high' 'yes' 'fair']\n",
      " ['senior' 'medium' 'no' 'excellent']]\n",
      "['no' 'no' 'yes' 'yes' 'yes' 'no' 'yes' 'no' 'yes' 'yes' 'yes' 'yes' 'yes'\n",
      " 'no']\n"
     ]
    }
   ],
   "source": [
    "from sklearn.tree import DecisionTreeClassifier\n",
    "\n",
    "from sklearn.model_selection import train_test_split\n",
    "X = D.values[:, 1:5]\n",
    "print(X)\n",
    "y=D.values[:,5]\n",
    "print(y)"
   ]
  },
  {
   "cell_type": "code",
   "execution_count": 3,
   "metadata": {},
   "outputs": [],
   "source": [
    "from sklearn import preprocessing\n",
    "le=preprocessing.LabelEncoder()\n"
   ]
  },
  {
   "cell_type": "code",
   "execution_count": 4,
   "metadata": {},
   "outputs": [
    {
     "data": {
      "text/plain": [
       "Index(['RID', 'age', 'income', 'student', 'credit_rating',\n",
       "       'Class: buys_computer'],\n",
       "      dtype='object')"
      ]
     },
     "execution_count": 4,
     "metadata": {},
     "output_type": "execute_result"
    }
   ],
   "source": [
    "D.columns"
   ]
  },
  {
   "cell_type": "code",
   "execution_count": 5,
   "metadata": {},
   "outputs": [
    {
     "name": "stdout",
     "output_type": "stream",
     "text": [
      "    RID  age  income  student  credit_rating  Class: buys_computer\n",
      "0     0    2       0        0              1                     0\n",
      "1     1    2       0        0              0                     0\n",
      "2     2    0       0        0              1                     1\n",
      "3     3    1       2        0              1                     1\n",
      "4     4    1       1        1              1                     1\n",
      "5     5    1       1        1              0                     0\n",
      "6     6    0       1        1              0                     1\n",
      "7     7    2       2        0              1                     0\n",
      "8     8    2       1        1              1                     1\n",
      "9     9    1       2        1              1                     1\n",
      "10   10    2       2        1              0                     1\n",
      "11   11    0       2        0              0                     1\n",
      "12   12    0       0        1              1                     1\n",
      "13   13    1       2        0              0                     0\n"
     ]
    }
   ],
   "source": [
    "data = D.apply(le.fit_transform)\n",
    "print(data)"
   ]
  },
  {
   "cell_type": "code",
   "execution_count": 6,
   "metadata": {},
   "outputs": [
    {
     "name": "stdout",
     "output_type": "stream",
     "text": [
      "[[2 0 0 1]\n",
      " [2 0 0 0]\n",
      " [0 0 0 1]\n",
      " [1 2 0 1]\n",
      " [1 1 1 1]\n",
      " [1 1 1 0]\n",
      " [0 1 1 0]\n",
      " [2 2 0 1]\n",
      " [2 1 1 1]\n",
      " [1 2 1 1]\n",
      " [2 2 1 0]\n",
      " [0 2 0 0]\n",
      " [0 0 1 1]\n",
      " [1 2 0 0]]\n",
      "[0 0 1 1 1 0 1 0 1 1 1 1 1 0]\n"
     ]
    }
   ],
   "source": [
    "from sklearn.tree import DecisionTreeClassifier\n",
    "\n",
    "from sklearn.model_selection import train_test_split\n",
    "X = data.values[:, 1:5]\n",
    "print(X)\n",
    "y=data.values[:,5]\n",
    "print(y)"
   ]
  },
  {
   "cell_type": "code",
   "execution_count": 7,
   "metadata": {},
   "outputs": [
    {
     "name": "stdout",
     "output_type": "stream",
     "text": [
      "Accuracy on training set:1.000\n",
      "Accuracy on test set:0.500\n"
     ]
    }
   ],
   "source": [
    "X_train, X_test, y_train, y_test = train_test_split(X, y, random_state=10)\n",
    "tree = DecisionTreeClassifier()\n",
    "tree.fit(X_train, y_train)\n",
    "print(\"Accuracy on training set:{:.3f}\".format(tree.score(X_train, y_train)))\n",
    "print(\"Accuracy on test set:{:.3f}\".format(tree.score(X_test, y_test)))"
   ]
  },
  {
   "cell_type": "code",
   "execution_count": 8,
   "metadata": {},
   "outputs": [
    {
     "name": "stdout",
     "output_type": "stream",
     "text": [
      "Accuracy on training set: 1.000\n",
      "Accuracy on test set: 0.500\n"
     ]
    }
   ],
   "source": [
    "# trying to reduce overfitting with max_depth\n",
    "tree1= DecisionTreeClassifier(max_depth = 4, random_state = 0)\n",
    "tree1.fit(X_train, y_train)\n",
    "print(\"Accuracy on training set: {:.3f}\".format(tree1.score(X_train, y_train)))\n",
    "print(\"Accuracy on test set: {:.3f}\".format(tree1.score(X_test, y_test)))"
   ]
  },
  {
   "cell_type": "code",
   "execution_count": 9,
   "metadata": {},
   "outputs": [
    {
     "name": "stdout",
     "output_type": "stream",
     "text": [
      "Accuracy on training set: 0.900\n",
      "Accuracy on test set: 0.500\n"
     ]
    }
   ],
   "source": [
    "# decreasing max_depth\n",
    "tree2= DecisionTreeClassifier(max_depth = 3, random_state = 0)\n",
    "tree2.fit(X_train, y_train)\n",
    "print(\"Accuracy on training set: {:.3f}\".format(tree2.score(X_train, y_train)))\n",
    "print(\"Accuracy on test set: {:.3f}\".format(tree2.score(X_test, y_test)))"
   ]
  },
  {
   "cell_type": "code",
   "execution_count": 10,
   "metadata": {},
   "outputs": [
    {
     "name": "stdout",
     "output_type": "stream",
     "text": [
      "Accuracy on training set: 0.900\n",
      "Accuracy on test set: 0.750\n"
     ]
    }
   ],
   "source": [
    "# changing random_state\n",
    "tree3= DecisionTreeClassifier(max_depth = 3, random_state = 10)\n",
    "tree3.fit(X_train, y_train)\n",
    "print(\"Accuracy on training set: {:.3f}\".format(tree3.score(X_train, y_train)))\n",
    "print(\"Accuracy on test set: {:.3f}\".format(tree3.score(X_test, y_test)))"
   ]
  },
  {
   "cell_type": "code",
   "execution_count": 11,
   "metadata": {},
   "outputs": [],
   "source": [
    "X_train, X_test, y_train, y_test = train_test_split(X, y, random_state=10)\n",
    "tree = DecisionTreeClassifier(random_state=0)\n",
    "tree3.fit(X_train, y_train)\n",
    "from sklearn.tree import export_graphviz\n",
    "export_graphviz(tree3, out_file=\"tree.dot\", class_names=[\"yes\",\"no\"],\n",
    "               feature_names=[\"age\",\"income\",\"student\",\"credit_rating\"], impurity=True, filled=True)"
   ]
  },
  {
   "cell_type": "code",
   "execution_count": 12,
   "metadata": {},
   "outputs": [
    {
     "data": {
      "image/svg+xml": [
       "<?xml version=\"1.0\" encoding=\"UTF-8\" standalone=\"no\"?>\r\n",
       "<!DOCTYPE svg PUBLIC \"-//W3C//DTD SVG 1.1//EN\"\r\n",
       " \"http://www.w3.org/Graphics/SVG/1.1/DTD/svg11.dtd\">\r\n",
       "<!-- Generated by graphviz version 2.38.0 (20140413.2041)\r\n",
       " -->\r\n",
       "<!-- Title: Tree Pages: 1 -->\r\n",
       "<svg width=\"429pt\" height=\"433pt\"\r\n",
       " viewBox=\"0.00 0.00 429.00 433.00\" xmlns=\"http://www.w3.org/2000/svg\" xmlns:xlink=\"http://www.w3.org/1999/xlink\">\r\n",
       "<g id=\"graph0\" class=\"graph\" transform=\"scale(1 1) rotate(0) translate(4 429)\">\r\n",
       "<title>Tree</title>\r\n",
       "<polygon fill=\"white\" stroke=\"none\" points=\"-4,4 -4,-429 425,-429 425,4 -4,4\"/>\r\n",
       "<!-- 0 -->\r\n",
       "<g id=\"node1\" class=\"node\"><title>0</title>\r\n",
       "<polygon fill=\"#399de5\" fill-opacity=\"0.333333\" stroke=\"black\" points=\"274.5,-425 146.5,-425 146.5,-342 274.5,-342 274.5,-425\"/>\r\n",
       "<text text-anchor=\"middle\" x=\"210.5\" y=\"-409.8\" font-family=\"Times New Roman,serif\" font-size=\"14.00\">credit_rating &lt;= 0.5</text>\r\n",
       "<text text-anchor=\"middle\" x=\"210.5\" y=\"-394.8\" font-family=\"Times New Roman,serif\" font-size=\"14.00\">gini = 0.48</text>\r\n",
       "<text text-anchor=\"middle\" x=\"210.5\" y=\"-379.8\" font-family=\"Times New Roman,serif\" font-size=\"14.00\">samples = 10</text>\r\n",
       "<text text-anchor=\"middle\" x=\"210.5\" y=\"-364.8\" font-family=\"Times New Roman,serif\" font-size=\"14.00\">value = [4, 6]</text>\r\n",
       "<text text-anchor=\"middle\" x=\"210.5\" y=\"-349.8\" font-family=\"Times New Roman,serif\" font-size=\"14.00\">class = no</text>\r\n",
       "</g>\r\n",
       "<!-- 1 -->\r\n",
       "<g id=\"node2\" class=\"node\"><title>1</title>\r\n",
       "<polygon fill=\"#e58139\" fill-opacity=\"0.333333\" stroke=\"black\" points=\"201.5,-306 103.5,-306 103.5,-223 201.5,-223 201.5,-306\"/>\r\n",
       "<text text-anchor=\"middle\" x=\"152.5\" y=\"-290.8\" font-family=\"Times New Roman,serif\" font-size=\"14.00\">income &lt;= 1.5</text>\r\n",
       "<text text-anchor=\"middle\" x=\"152.5\" y=\"-275.8\" font-family=\"Times New Roman,serif\" font-size=\"14.00\">gini = 0.48</text>\r\n",
       "<text text-anchor=\"middle\" x=\"152.5\" y=\"-260.8\" font-family=\"Times New Roman,serif\" font-size=\"14.00\">samples = 5</text>\r\n",
       "<text text-anchor=\"middle\" x=\"152.5\" y=\"-245.8\" font-family=\"Times New Roman,serif\" font-size=\"14.00\">value = [3, 2]</text>\r\n",
       "<text text-anchor=\"middle\" x=\"152.5\" y=\"-230.8\" font-family=\"Times New Roman,serif\" font-size=\"14.00\">class = yes</text>\r\n",
       "</g>\r\n",
       "<!-- 0&#45;&gt;1 -->\r\n",
       "<g id=\"edge1\" class=\"edge\"><title>0&#45;&gt;1</title>\r\n",
       "<path fill=\"none\" stroke=\"black\" d=\"M190.377,-341.907C186.103,-333.286 181.545,-324.09 177.125,-315.175\"/>\r\n",
       "<polygon fill=\"black\" stroke=\"black\" points=\"180.165,-313.426 172.587,-306.021 173.893,-316.535 180.165,-313.426\"/>\r\n",
       "<text text-anchor=\"middle\" x=\"164.6\" y=\"-326.011\" font-family=\"Times New Roman,serif\" font-size=\"14.00\">True</text>\r\n",
       "</g>\r\n",
       "<!-- 6 -->\r\n",
       "<g id=\"node7\" class=\"node\"><title>6</title>\r\n",
       "<polygon fill=\"#399de5\" fill-opacity=\"0.749020\" stroke=\"black\" points=\"317.5,-306 219.5,-306 219.5,-223 317.5,-223 317.5,-306\"/>\r\n",
       "<text text-anchor=\"middle\" x=\"268.5\" y=\"-290.8\" font-family=\"Times New Roman,serif\" font-size=\"14.00\">student &lt;= 0.5</text>\r\n",
       "<text text-anchor=\"middle\" x=\"268.5\" y=\"-275.8\" font-family=\"Times New Roman,serif\" font-size=\"14.00\">gini = 0.32</text>\r\n",
       "<text text-anchor=\"middle\" x=\"268.5\" y=\"-260.8\" font-family=\"Times New Roman,serif\" font-size=\"14.00\">samples = 5</text>\r\n",
       "<text text-anchor=\"middle\" x=\"268.5\" y=\"-245.8\" font-family=\"Times New Roman,serif\" font-size=\"14.00\">value = [1, 4]</text>\r\n",
       "<text text-anchor=\"middle\" x=\"268.5\" y=\"-230.8\" font-family=\"Times New Roman,serif\" font-size=\"14.00\">class = no</text>\r\n",
       "</g>\r\n",
       "<!-- 0&#45;&gt;6 -->\r\n",
       "<g id=\"edge6\" class=\"edge\"><title>0&#45;&gt;6</title>\r\n",
       "<path fill=\"none\" stroke=\"black\" d=\"M230.623,-341.907C234.897,-333.286 239.455,-324.09 243.875,-315.175\"/>\r\n",
       "<polygon fill=\"black\" stroke=\"black\" points=\"247.107,-316.535 248.413,-306.021 240.835,-313.426 247.107,-316.535\"/>\r\n",
       "<text text-anchor=\"middle\" x=\"256.4\" y=\"-326.011\" font-family=\"Times New Roman,serif\" font-size=\"14.00\">False</text>\r\n",
       "</g>\r\n",
       "<!-- 2 -->\r\n",
       "<g id=\"node3\" class=\"node\"><title>2</title>\r\n",
       "<polygon fill=\"#e58139\" stroke=\"black\" points=\"91,-179.5 0,-179.5 0,-111.5 91,-111.5 91,-179.5\"/>\r\n",
       "<text text-anchor=\"middle\" x=\"45.5\" y=\"-164.3\" font-family=\"Times New Roman,serif\" font-size=\"14.00\">gini = 0.0</text>\r\n",
       "<text text-anchor=\"middle\" x=\"45.5\" y=\"-149.3\" font-family=\"Times New Roman,serif\" font-size=\"14.00\">samples = 2</text>\r\n",
       "<text text-anchor=\"middle\" x=\"45.5\" y=\"-134.3\" font-family=\"Times New Roman,serif\" font-size=\"14.00\">value = [2, 0]</text>\r\n",
       "<text text-anchor=\"middle\" x=\"45.5\" y=\"-119.3\" font-family=\"Times New Roman,serif\" font-size=\"14.00\">class = yes</text>\r\n",
       "</g>\r\n",
       "<!-- 1&#45;&gt;2 -->\r\n",
       "<g id=\"edge2\" class=\"edge\"><title>1&#45;&gt;2</title>\r\n",
       "<path fill=\"none\" stroke=\"black\" d=\"M115.377,-222.907C104.781,-211.321 93.2365,-198.698 82.6395,-187.111\"/>\r\n",
       "<polygon fill=\"black\" stroke=\"black\" points=\"85.1637,-184.684 75.8322,-179.667 79.9981,-189.408 85.1637,-184.684\"/>\r\n",
       "</g>\r\n",
       "<!-- 3 -->\r\n",
       "<g id=\"node4\" class=\"node\"><title>3</title>\r\n",
       "<polygon fill=\"#399de5\" fill-opacity=\"0.498039\" stroke=\"black\" points=\"200,-187 109,-187 109,-104 200,-104 200,-187\"/>\r\n",
       "<text text-anchor=\"middle\" x=\"154.5\" y=\"-171.8\" font-family=\"Times New Roman,serif\" font-size=\"14.00\">age &lt;= 0.5</text>\r\n",
       "<text text-anchor=\"middle\" x=\"154.5\" y=\"-156.8\" font-family=\"Times New Roman,serif\" font-size=\"14.00\">gini = 0.444</text>\r\n",
       "<text text-anchor=\"middle\" x=\"154.5\" y=\"-141.8\" font-family=\"Times New Roman,serif\" font-size=\"14.00\">samples = 3</text>\r\n",
       "<text text-anchor=\"middle\" x=\"154.5\" y=\"-126.8\" font-family=\"Times New Roman,serif\" font-size=\"14.00\">value = [1, 2]</text>\r\n",
       "<text text-anchor=\"middle\" x=\"154.5\" y=\"-111.8\" font-family=\"Times New Roman,serif\" font-size=\"14.00\">class = no</text>\r\n",
       "</g>\r\n",
       "<!-- 1&#45;&gt;3 -->\r\n",
       "<g id=\"edge3\" class=\"edge\"><title>1&#45;&gt;3</title>\r\n",
       "<path fill=\"none\" stroke=\"black\" d=\"M153.194,-222.907C153.337,-214.558 153.489,-205.671 153.636,-197.02\"/>\r\n",
       "<polygon fill=\"black\" stroke=\"black\" points=\"157.136,-197.079 153.807,-187.021 150.137,-196.959 157.136,-197.079\"/>\r\n",
       "</g>\r\n",
       "<!-- 4 -->\r\n",
       "<g id=\"node5\" class=\"node\"><title>4</title>\r\n",
       "<polygon fill=\"#399de5\" stroke=\"black\" points=\"92,-68 1,-68 1,-0 92,-0 92,-68\"/>\r\n",
       "<text text-anchor=\"middle\" x=\"46.5\" y=\"-52.8\" font-family=\"Times New Roman,serif\" font-size=\"14.00\">gini = 0.0</text>\r\n",
       "<text text-anchor=\"middle\" x=\"46.5\" y=\"-37.8\" font-family=\"Times New Roman,serif\" font-size=\"14.00\">samples = 1</text>\r\n",
       "<text text-anchor=\"middle\" x=\"46.5\" y=\"-22.8\" font-family=\"Times New Roman,serif\" font-size=\"14.00\">value = [0, 1]</text>\r\n",
       "<text text-anchor=\"middle\" x=\"46.5\" y=\"-7.8\" font-family=\"Times New Roman,serif\" font-size=\"14.00\">class = no</text>\r\n",
       "</g>\r\n",
       "<!-- 3&#45;&gt;4 -->\r\n",
       "<g id=\"edge4\" class=\"edge\"><title>3&#45;&gt;4</title>\r\n",
       "<path fill=\"none\" stroke=\"black\" d=\"M114.285,-103.726C105.199,-94.5142 95.5551,-84.7364 86.479,-75.5343\"/>\r\n",
       "<polygon fill=\"black\" stroke=\"black\" points=\"88.8575,-72.9615 79.3434,-68.2996 83.8737,-77.877 88.8575,-72.9615\"/>\r\n",
       "</g>\r\n",
       "<!-- 5 -->\r\n",
       "<g id=\"node6\" class=\"node\"><title>5</title>\r\n",
       "<polygon fill=\"none\" stroke=\"black\" points=\"201,-68 110,-68 110,-0 201,-0 201,-68\"/>\r\n",
       "<text text-anchor=\"middle\" x=\"155.5\" y=\"-52.8\" font-family=\"Times New Roman,serif\" font-size=\"14.00\">gini = 0.5</text>\r\n",
       "<text text-anchor=\"middle\" x=\"155.5\" y=\"-37.8\" font-family=\"Times New Roman,serif\" font-size=\"14.00\">samples = 2</text>\r\n",
       "<text text-anchor=\"middle\" x=\"155.5\" y=\"-22.8\" font-family=\"Times New Roman,serif\" font-size=\"14.00\">value = [1, 1]</text>\r\n",
       "<text text-anchor=\"middle\" x=\"155.5\" y=\"-7.8\" font-family=\"Times New Roman,serif\" font-size=\"14.00\">class = yes</text>\r\n",
       "</g>\r\n",
       "<!-- 3&#45;&gt;5 -->\r\n",
       "<g id=\"edge5\" class=\"edge\"><title>3&#45;&gt;5</title>\r\n",
       "<path fill=\"none\" stroke=\"black\" d=\"M154.872,-103.726C154.947,-95.5175 155.026,-86.8595 155.102,-78.56\"/>\r\n",
       "<polygon fill=\"black\" stroke=\"black\" points=\"158.604,-78.3312 155.196,-68.2996 151.605,-78.2672 158.604,-78.3312\"/>\r\n",
       "</g>\r\n",
       "<!-- 7 -->\r\n",
       "<g id=\"node8\" class=\"node\"><title>7</title>\r\n",
       "<polygon fill=\"none\" stroke=\"black\" points=\"312,-187 221,-187 221,-104 312,-104 312,-187\"/>\r\n",
       "<text text-anchor=\"middle\" x=\"266.5\" y=\"-171.8\" font-family=\"Times New Roman,serif\" font-size=\"14.00\">age &lt;= 1.0</text>\r\n",
       "<text text-anchor=\"middle\" x=\"266.5\" y=\"-156.8\" font-family=\"Times New Roman,serif\" font-size=\"14.00\">gini = 0.5</text>\r\n",
       "<text text-anchor=\"middle\" x=\"266.5\" y=\"-141.8\" font-family=\"Times New Roman,serif\" font-size=\"14.00\">samples = 2</text>\r\n",
       "<text text-anchor=\"middle\" x=\"266.5\" y=\"-126.8\" font-family=\"Times New Roman,serif\" font-size=\"14.00\">value = [1, 1]</text>\r\n",
       "<text text-anchor=\"middle\" x=\"266.5\" y=\"-111.8\" font-family=\"Times New Roman,serif\" font-size=\"14.00\">class = yes</text>\r\n",
       "</g>\r\n",
       "<!-- 6&#45;&gt;7 -->\r\n",
       "<g id=\"edge7\" class=\"edge\"><title>6&#45;&gt;7</title>\r\n",
       "<path fill=\"none\" stroke=\"black\" d=\"M267.806,-222.907C267.663,-214.558 267.511,-205.671 267.364,-197.02\"/>\r\n",
       "<polygon fill=\"black\" stroke=\"black\" points=\"270.863,-196.959 267.193,-187.021 263.864,-197.079 270.863,-196.959\"/>\r\n",
       "</g>\r\n",
       "<!-- 10 -->\r\n",
       "<g id=\"node11\" class=\"node\"><title>10</title>\r\n",
       "<polygon fill=\"#399de5\" stroke=\"black\" points=\"421,-179.5 330,-179.5 330,-111.5 421,-111.5 421,-179.5\"/>\r\n",
       "<text text-anchor=\"middle\" x=\"375.5\" y=\"-164.3\" font-family=\"Times New Roman,serif\" font-size=\"14.00\">gini = 0.0</text>\r\n",
       "<text text-anchor=\"middle\" x=\"375.5\" y=\"-149.3\" font-family=\"Times New Roman,serif\" font-size=\"14.00\">samples = 3</text>\r\n",
       "<text text-anchor=\"middle\" x=\"375.5\" y=\"-134.3\" font-family=\"Times New Roman,serif\" font-size=\"14.00\">value = [0, 3]</text>\r\n",
       "<text text-anchor=\"middle\" x=\"375.5\" y=\"-119.3\" font-family=\"Times New Roman,serif\" font-size=\"14.00\">class = no</text>\r\n",
       "</g>\r\n",
       "<!-- 6&#45;&gt;10 -->\r\n",
       "<g id=\"edge10\" class=\"edge\"><title>6&#45;&gt;10</title>\r\n",
       "<path fill=\"none\" stroke=\"black\" d=\"M305.623,-222.907C316.219,-211.321 327.764,-198.698 338.36,-187.111\"/>\r\n",
       "<polygon fill=\"black\" stroke=\"black\" points=\"341.002,-189.408 345.168,-179.667 335.836,-184.684 341.002,-189.408\"/>\r\n",
       "</g>\r\n",
       "<!-- 8 -->\r\n",
       "<g id=\"node9\" class=\"node\"><title>8</title>\r\n",
       "<polygon fill=\"#399de5\" stroke=\"black\" points=\"311,-68 220,-68 220,-0 311,-0 311,-68\"/>\r\n",
       "<text text-anchor=\"middle\" x=\"265.5\" y=\"-52.8\" font-family=\"Times New Roman,serif\" font-size=\"14.00\">gini = 0.0</text>\r\n",
       "<text text-anchor=\"middle\" x=\"265.5\" y=\"-37.8\" font-family=\"Times New Roman,serif\" font-size=\"14.00\">samples = 1</text>\r\n",
       "<text text-anchor=\"middle\" x=\"265.5\" y=\"-22.8\" font-family=\"Times New Roman,serif\" font-size=\"14.00\">value = [0, 1]</text>\r\n",
       "<text text-anchor=\"middle\" x=\"265.5\" y=\"-7.8\" font-family=\"Times New Roman,serif\" font-size=\"14.00\">class = no</text>\r\n",
       "</g>\r\n",
       "<!-- 7&#45;&gt;8 -->\r\n",
       "<g id=\"edge8\" class=\"edge\"><title>7&#45;&gt;8</title>\r\n",
       "<path fill=\"none\" stroke=\"black\" d=\"M266.128,-103.726C266.053,-95.5175 265.974,-86.8595 265.898,-78.56\"/>\r\n",
       "<polygon fill=\"black\" stroke=\"black\" points=\"269.395,-78.2672 265.804,-68.2996 262.396,-78.3312 269.395,-78.2672\"/>\r\n",
       "</g>\r\n",
       "<!-- 9 -->\r\n",
       "<g id=\"node10\" class=\"node\"><title>9</title>\r\n",
       "<polygon fill=\"#e58139\" stroke=\"black\" points=\"420,-68 329,-68 329,-0 420,-0 420,-68\"/>\r\n",
       "<text text-anchor=\"middle\" x=\"374.5\" y=\"-52.8\" font-family=\"Times New Roman,serif\" font-size=\"14.00\">gini = 0.0</text>\r\n",
       "<text text-anchor=\"middle\" x=\"374.5\" y=\"-37.8\" font-family=\"Times New Roman,serif\" font-size=\"14.00\">samples = 1</text>\r\n",
       "<text text-anchor=\"middle\" x=\"374.5\" y=\"-22.8\" font-family=\"Times New Roman,serif\" font-size=\"14.00\">value = [1, 0]</text>\r\n",
       "<text text-anchor=\"middle\" x=\"374.5\" y=\"-7.8\" font-family=\"Times New Roman,serif\" font-size=\"14.00\">class = yes</text>\r\n",
       "</g>\r\n",
       "<!-- 7&#45;&gt;9 -->\r\n",
       "<g id=\"edge9\" class=\"edge\"><title>7&#45;&gt;9</title>\r\n",
       "<path fill=\"none\" stroke=\"black\" d=\"M306.715,-103.726C315.801,-94.5142 325.445,-84.7364 334.521,-75.5343\"/>\r\n",
       "<polygon fill=\"black\" stroke=\"black\" points=\"337.126,-77.877 341.657,-68.2996 332.143,-72.9615 337.126,-77.877\"/>\r\n",
       "</g>\r\n",
       "</g>\r\n",
       "</svg>\r\n"
      ],
      "text/plain": [
       "<graphviz.files.Source at 0x14cc6d4d208>"
      ]
     },
     "execution_count": 12,
     "metadata": {},
     "output_type": "execute_result"
    }
   ],
   "source": [
    "import graphviz\n",
    "with open(\"tree.dot\") as f:\n",
    "    dot_graph = f.read()\n",
    "graphviz.Source(dot_graph)"
   ]
  },
  {
   "cell_type": "code",
   "execution_count": 13,
   "metadata": {},
   "outputs": [
    {
     "name": "stdout",
     "output_type": "stream",
     "text": [
      "Feature importances:\n",
      "[0.35087719 0.28070175 0.15789474 0.21052632]\n"
     ]
    }
   ],
   "source": [
    "print(\"Feature importances:\")\n",
    "print(tree3.feature_importances_)\n",
    "feature_names = ['Age', 'Income', 'Student', 'Credit_rating']"
   ]
  },
  {
   "cell_type": "code",
   "execution_count": 15,
   "metadata": {},
   "outputs": [
    {
     "data": {
      "image/png": "[encoded data removed]",
      "text/plain": [
       "<Figure size 432x288 with 1 Axes>"
      ]
     },
     "metadata": {},
     "output_type": "display_data"
    }
   ],
   "source": [
    "# I don't know if this is right\n",
    "import matplotlib.pyplot as plt\n",
    "def plot_feature_importances_data(model):\n",
    "    n_features=X_train.shape[1]\n",
    "    plt.barh(np.arange(n_features), model.feature_importances_, align='center')\n",
    "    plt.yticks(np.arange(n_features), X_train)\n",
    "    plt.xlabel(\"Feature importance\")\n",
    "    plt.ylabel(\"Feature\")\n",
    "    plt.ylim(-1, n_features)\n",
    "plot_feature_importances_data(tree3)"
   ]
  },
  {
   "cell_type": "code",
   "execution_count": null,
   "metadata": {},
   "outputs": [],
   "source": []
  }
 ],
 "metadata": {
  "kernelspec": {
   "display_name": "Python 3",
   "language": "python",
   "name": "python3"
  },
  "language_info": {
   "codemirror_mode": {
    "name": "ipython",
    "version": 3
   },
   "file_extension": ".py",
   "mimetype": "text/x-python",
   "name": "python",
   "nbconvert_exporter": "python",
   "pygments_lexer": "ipython3",
   "version": "3.6.5"
  }
 },
 "nbformat": 4,
 "nbformat_minor": 2
}
